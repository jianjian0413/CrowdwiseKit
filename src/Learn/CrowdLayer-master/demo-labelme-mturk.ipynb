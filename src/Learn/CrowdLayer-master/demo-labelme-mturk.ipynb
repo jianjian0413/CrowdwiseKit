{
 "cells": [
  {
   "cell_type": "markdown",
   "source": [
    "# Import required libraries"
   ],
   "metadata": {}
  },
  {
   "cell_type": "code",
   "execution_count": 1,
   "source": [
    "import numpy as np\n",
    "import tensorflow as tf\n",
    "import matplotlib.cm as cm\n",
    "from matplotlib import pyplot as plt \n",
    "from tensorflow.keras.models import Sequential\n",
    "from tensorflow.keras.layers import Activation, Dropout, Flatten, Dense\n",
    "\n",
    "# packages for learning from crowds\n",
    "from crowd_layer.crowd_layers import CrowdsClassification, MaskedMultiCrossEntropy\n",
    "from crowd_layer.crowd_aggregators import CrowdsCategoricalAggregator\n",
    "\n",
    "# prevent tensorflow from allocating the entire GPU memory at once\n",
    "config = tf.ConfigProto()\n",
    "config.gpu_options.allow_growth=True\n",
    "sess = tf.Session(config=config)"
   ],
   "outputs": [
    {
     "output_type": "stream",
     "name": "stderr",
     "text": [
      "Using TensorFlow backend.\n"
     ]
    }
   ],
   "metadata": {}
  },
  {
   "cell_type": "markdown",
   "source": [
    "# Configuration parameters"
   ],
   "metadata": {}
  },
  {
   "cell_type": "code",
   "execution_count": 2,
   "source": [
    "NUM_RUNS = 30\n",
    "DATA_PATH = \"/home/fmpr/datasets/deep-crowds-datasets/LabelMe/prepared/\"\n",
    "N_CLASSES = 8\n",
    "BATCH_SIZE = 64\n",
    "N_EPOCHS = 50"
   ],
   "outputs": [],
   "metadata": {
    "collapsed": true
   }
  },
  {
   "cell_type": "markdown",
   "source": [
    "# Load data"
   ],
   "metadata": {}
  },
  {
   "cell_type": "code",
   "execution_count": 3,
   "source": [
    "def load_data(filename):\n",
    "    f = open(filename)\n",
    "    data = np.load(f)\n",
    "    f.close()\n",
    "    return data"
   ],
   "outputs": [],
   "metadata": {
    "collapsed": true
   }
  },
  {
   "cell_type": "code",
   "execution_count": 4,
   "source": [
    "print (\"\\nLoading train data...\")\n",
    "\n",
    "# images processed by VGG16\n",
    "data_train_vgg16 = load_data(DATA_PATH+\"data_train_vgg16.npy\")\n",
    "print (data_train_vgg16.shape)\n",
    "\n",
    "# ground truth labels\n",
    "labels_train = load_data(DATA_PATH+\"labels_train.npy\")\n",
    "print (labels_train.shape)\n",
    "\n",
    "# labels obtained from majority voting\n",
    "labels_train_mv = load_data(DATA_PATH+\"labels_train_mv.npy\")\n",
    "print (labels_train_mv.shape)\n",
    "\n",
    "# labels obtained by using the approach by Dawid and Skene\n",
    "labels_train_ds = load_data(DATA_PATH+\"labels_train_DS.npy\")\n",
    "print (labels_train_ds.shape)\n",
    "\n",
    "# data from Amazon Mechanical Turk\n",
    "print (\"\\nLoading AMT data...\")\n",
    "answers = load_data(DATA_PATH+\"answers.npy\")\n",
    "print (answers.shape)\n",
    "N_ANNOT = answers.shape[1]\n",
    "print (\"\\nN_CLASSES:\", N_CLASSES)\n",
    "print (\"N_ANNOT:\", N_ANNOT)\n",
    "\n",
    "# load test data\n",
    "print (\"\\nLoading test data...\")\n",
    "\n",
    "# images processed by VGG16\n",
    "data_test_vgg16 = load_data(DATA_PATH+\"data_test_vgg16.npy\")\n",
    "print (data_test_vgg16.shape)\n",
    "\n",
    "# test labels\n",
    "labels_test = load_data(DATA_PATH+\"labels_test.npy\")\n",
    "print (labels_test.shape)"
   ],
   "outputs": [
    {
     "output_type": "stream",
     "name": "stdout",
     "text": [
      "\n",
      "Loading train data...\n",
      "(10000, 150, 150, 3)\n",
      "(10000, 4, 4, 512)\n",
      "(10000,)\n",
      "(10000,)\n",
      "(10000,)\n",
      "\n",
      "Loading AMT data...\n",
      "(10000, 59)\n",
      "\n",
      "N_CLASSES: 8\n",
      "N_ANNOT: 59\n",
      "\n",
      "Loading test data...\n",
      "(1188, 150, 150, 3)\n",
      "(1188, 4, 4, 512)\n",
      "(1188,)\n"
     ]
    }
   ],
   "metadata": {}
  },
  {
   "cell_type": "markdown",
   "source": [
    "# Convert data to one-hot encoding"
   ],
   "metadata": {}
  },
  {
   "cell_type": "code",
   "execution_count": 5,
   "source": [
    "def one_hot(target, n_classes):\n",
    "    targets = np.array([target]).reshape(-1)\n",
    "    one_hot_targets = np.eye(n_classes)[targets]\n",
    "    return one_hot_targets"
   ],
   "outputs": [],
   "metadata": {
    "collapsed": true
   }
  },
  {
   "cell_type": "code",
   "execution_count": 6,
   "source": [
    "print (\"\\nConverting to one-hot encoding...\")\n",
    "labels_train_bin = one_hot(labels_train, N_CLASSES)\n",
    "print (labels_train_bin.shape)\n",
    "labels_train_mv_bin = one_hot(labels_train_mv, N_CLASSES)\n",
    "print (labels_train_mv_bin.shape)\n",
    "labels_train_ds_bin = one_hot(labels_train_ds, N_CLASSES)\n",
    "print (labels_train_ds_bin.shape)\n",
    "labels_test_bin = one_hot(labels_test, N_CLASSES)\n",
    "print (labels_test_bin.shape)\n",
    "\n",
    "answers_bin_missings = []\n",
    "for i in range(len(answers)):\n",
    "    row = []\n",
    "    for r in range(N_ANNOT):\n",
    "        if answers[i,r] == -1:\n",
    "            row.append(-1 * np.ones(N_CLASSES))\n",
    "        else:\n",
    "            row.append(one_hot(answers[i,r], N_CLASSES)[0,:])\n",
    "    answers_bin_missings.append(row)\n",
    "answers_bin_missings = np.array(answers_bin_missings).swapaxes(1,2)\n",
    "answers_bin_missings.shape"
   ],
   "outputs": [
    {
     "output_type": "stream",
     "name": "stdout",
     "text": [
      "\n",
      "Converting to one-hot encoding...\n",
      "(10000, 8)\n",
      "(10000, 8)\n",
      "(10000, 8)\n",
      "(1188, 8)\n"
     ]
    },
    {
     "output_type": "execute_result",
     "data": {
      "text/plain": [
       "(10000, 8, 59)"
      ]
     },
     "metadata": {},
     "execution_count": 6
    }
   ],
   "metadata": {}
  },
  {
   "cell_type": "markdown",
   "source": [
    "# Define the base deep learning model\n",
    "\n",
    "Here we shall use features representation produced by the VGG16 network as the input. Our base model is then simply composed by one densely-connected layer with 128 hidden units and an output dense layer. We use 50% dropout between the two dense layers."
   ],
   "metadata": {}
  },
  {
   "cell_type": "code",
   "execution_count": 7,
   "source": [
    "def build_base_model():\n",
    "    base_model = Sequential()\n",
    "    base_model.add(Flatten(input_shape=data_train_vgg16.shape[1:]))\n",
    "    base_model.add(Dense(128, activation='relu'))\n",
    "    base_model.add(Dropout(0.5))\n",
    "    base_model.add(Dense(N_CLASSES))\n",
    "    base_model.add(Activation(\"softmax\"))\n",
    "    base_model.compile(optimizer='adam', loss='categorical_crossentropy')\n",
    "\n",
    "    return base_model"
   ],
   "outputs": [],
   "metadata": {
    "collapsed": true
   }
  },
  {
   "cell_type": "markdown",
   "source": [
    "# Auxiliary function for evaluating the models"
   ],
   "metadata": {}
  },
  {
   "cell_type": "code",
   "execution_count": 8,
   "source": [
    "def eval_model(model, test_data, test_labels):\n",
    "    # testset accuracy\n",
    "    preds_test = model.predict(test_data)\n",
    "    preds_test_num = np.argmax(preds_test, axis=1)\n",
    "    accuracy_test = 1.0*np.sum(preds_test_num == test_labels) / len(test_labels)\n",
    "\n",
    "    return accuracy_test"
   ],
   "outputs": [],
   "metadata": {
    "collapsed": true
   }
  },
  {
   "cell_type": "markdown",
   "source": [
    "# Train the model on the true labels (ground truth) and evaluate on testset"
   ],
   "metadata": {}
  },
  {
   "cell_type": "code",
   "execution_count": 9,
   "source": [
    "model = build_base_model()\n",
    "model.fit(data_train_vgg16, labels_train_bin, epochs=N_EPOCHS, shuffle=True, batch_size=BATCH_SIZE, verbose=2)"
   ],
   "outputs": [
    {
     "output_type": "stream",
     "name": "stdout",
     "text": [
      "Epoch 1/50\n",
      "1s - loss: 0.5419\n",
      "Epoch 2/50\n",
      "0s - loss: 0.2063\n",
      "Epoch 3/50\n",
      "0s - loss: 0.1301\n",
      "Epoch 4/50\n",
      "0s - loss: 0.0867\n",
      "Epoch 5/50\n",
      "0s - loss: 0.0704\n",
      "Epoch 6/50\n",
      "0s - loss: 0.0503\n",
      "Epoch 7/50\n",
      "0s - loss: 0.0457\n",
      "Epoch 8/50\n",
      "0s - loss: 0.0455\n",
      "Epoch 9/50\n",
      "0s - loss: 0.0346\n",
      "Epoch 10/50\n",
      "0s - loss: 0.0369\n",
      "Epoch 11/50\n",
      "0s - loss: 0.0345\n",
      "Epoch 12/50\n",
      "0s - loss: 0.0313\n",
      "Epoch 13/50\n",
      "0s - loss: 0.0337\n",
      "Epoch 14/50\n",
      "0s - loss: 0.0342\n",
      "Epoch 15/50\n",
      "0s - loss: 0.0297\n",
      "Epoch 16/50\n",
      "0s - loss: 0.0383\n",
      "Epoch 17/50\n",
      "0s - loss: 0.0350\n",
      "Epoch 18/50\n",
      "0s - loss: 0.0369\n",
      "Epoch 19/50\n",
      "0s - loss: 0.0272\n",
      "Epoch 20/50\n",
      "0s - loss: 0.0296\n",
      "Epoch 21/50\n",
      "0s - loss: 0.0304\n",
      "Epoch 22/50\n",
      "0s - loss: 0.0278\n",
      "Epoch 23/50\n",
      "0s - loss: 0.0240\n",
      "Epoch 24/50\n",
      "0s - loss: 0.0245\n",
      "Epoch 25/50\n",
      "0s - loss: 0.0328\n",
      "Epoch 26/50\n",
      "0s - loss: 0.0269\n",
      "Epoch 27/50\n",
      "0s - loss: 0.0282\n",
      "Epoch 28/50\n",
      "0s - loss: 0.0377\n",
      "Epoch 29/50\n",
      "0s - loss: 0.0214\n",
      "Epoch 30/50\n",
      "0s - loss: 0.0144\n",
      "Epoch 31/50\n",
      "0s - loss: 0.0372\n",
      "Epoch 32/50\n",
      "0s - loss: 0.0198\n",
      "Epoch 33/50\n",
      "0s - loss: 0.0201\n",
      "Epoch 34/50\n",
      "0s - loss: 0.0335\n",
      "Epoch 35/50\n",
      "0s - loss: 0.0315\n",
      "Epoch 36/50\n",
      "0s - loss: 0.0184\n",
      "Epoch 37/50\n",
      "0s - loss: 0.0218\n",
      "Epoch 38/50\n",
      "0s - loss: 0.0284\n",
      "Epoch 39/50\n",
      "0s - loss: 0.0206\n",
      "Epoch 40/50\n",
      "0s - loss: 0.0217\n",
      "Epoch 41/50\n",
      "0s - loss: 0.0250\n",
      "Epoch 42/50\n",
      "0s - loss: 0.0176\n",
      "Epoch 43/50\n",
      "0s - loss: 0.0206\n",
      "Epoch 44/50\n",
      "0s - loss: 0.0214\n",
      "Epoch 45/50\n",
      "0s - loss: 0.0103\n",
      "Epoch 46/50\n",
      "0s - loss: 0.0155\n",
      "Epoch 47/50\n",
      "0s - loss: 0.0254\n",
      "Epoch 48/50\n",
      "0s - loss: 0.0348\n",
      "Epoch 49/50\n",
      "0s - loss: 0.0221\n",
      "Epoch 50/50\n",
      "0s - loss: 0.0190\n"
     ]
    },
    {
     "output_type": "execute_result",
     "data": {
      "text/plain": [
       "<keras.callbacks.History at 0x7fcea81b9610>"
      ]
     },
     "metadata": {},
     "execution_count": 9
    }
   ],
   "metadata": {
    "scrolled": true
   }
  },
  {
   "cell_type": "code",
   "execution_count": 10,
   "source": [
    "accuracy_test = eval_model(model, data_test_vgg16, labels_test)\n",
    "print (\"Accuracy: Test: %.3f\" % (accuracy_test,) )"
   ],
   "outputs": [
    {
     "output_type": "stream",
     "name": "stdout",
     "text": [
      "Accuracy: Test: 0.912\n"
     ]
    }
   ],
   "metadata": {}
  },
  {
   "cell_type": "markdown",
   "source": [
    "# Train the model on the output of majority voting and evaluate on testset"
   ],
   "metadata": {}
  },
  {
   "cell_type": "code",
   "execution_count": 11,
   "source": [
    "model = build_base_model()\n",
    "model.fit(data_train_vgg16, labels_train_mv_bin, epochs=N_EPOCHS, shuffle=True, batch_size=BATCH_SIZE, verbose=2)"
   ],
   "outputs": [
    {
     "output_type": "stream",
     "name": "stdout",
     "text": [
      "Epoch 1/50\n",
      "0s - loss: 0.8882\n",
      "Epoch 2/50\n",
      "0s - loss: 0.5389\n",
      "Epoch 3/50\n",
      "0s - loss: 0.3828\n",
      "Epoch 4/50\n",
      "0s - loss: 0.2901\n",
      "Epoch 5/50\n",
      "0s - loss: 0.2244\n",
      "Epoch 6/50\n",
      "0s - loss: 0.1863\n",
      "Epoch 7/50\n",
      "0s - loss: 0.1466\n",
      "Epoch 8/50\n",
      "0s - loss: 0.1342\n",
      "Epoch 9/50\n",
      "0s - loss: 0.1254\n",
      "Epoch 10/50\n",
      "0s - loss: 0.1043\n",
      "Epoch 11/50\n",
      "0s - loss: 0.1112\n",
      "Epoch 12/50\n",
      "0s - loss: 0.0937\n",
      "Epoch 13/50\n",
      "0s - loss: 0.0859\n",
      "Epoch 14/50\n",
      "0s - loss: 0.0835\n",
      "Epoch 15/50\n",
      "0s - loss: 0.0725\n",
      "Epoch 16/50\n",
      "0s - loss: 0.0754\n",
      "Epoch 17/50\n",
      "0s - loss: 0.0813\n",
      "Epoch 18/50\n",
      "0s - loss: 0.0809\n",
      "Epoch 19/50\n",
      "0s - loss: 0.0560\n",
      "Epoch 20/50\n",
      "0s - loss: 0.0563\n",
      "Epoch 21/50\n",
      "0s - loss: 0.0677\n",
      "Epoch 22/50\n",
      "0s - loss: 0.0708\n",
      "Epoch 23/50\n",
      "0s - loss: 0.0556\n",
      "Epoch 24/50\n",
      "0s - loss: 0.0595\n",
      "Epoch 25/50\n",
      "0s - loss: 0.0717\n",
      "Epoch 26/50\n",
      "0s - loss: 0.0715\n",
      "Epoch 27/50\n",
      "0s - loss: 0.0629\n",
      "Epoch 28/50\n",
      "0s - loss: 0.0627\n",
      "Epoch 29/50\n",
      "0s - loss: 0.0590\n",
      "Epoch 30/50\n",
      "0s - loss: 0.0565\n",
      "Epoch 31/50\n",
      "0s - loss: 0.0607\n",
      "Epoch 32/50\n",
      "0s - loss: 0.0649\n",
      "Epoch 33/50\n",
      "0s - loss: 0.0468\n",
      "Epoch 34/50\n",
      "0s - loss: 0.0507\n",
      "Epoch 35/50\n",
      "0s - loss: 0.0428\n",
      "Epoch 36/50\n",
      "0s - loss: 0.0517\n",
      "Epoch 37/50\n",
      "0s - loss: 0.0480\n",
      "Epoch 38/50\n",
      "0s - loss: 0.0508\n",
      "Epoch 39/50\n",
      "0s - loss: 0.0610\n",
      "Epoch 40/50\n",
      "0s - loss: 0.0523\n",
      "Epoch 41/50\n",
      "0s - loss: 0.0671\n",
      "Epoch 42/50\n",
      "0s - loss: 0.0619\n",
      "Epoch 43/50\n",
      "0s - loss: 0.0664\n",
      "Epoch 44/50\n",
      "0s - loss: 0.0682\n",
      "Epoch 45/50\n",
      "0s - loss: 0.0660\n",
      "Epoch 46/50\n",
      "0s - loss: 0.0513\n",
      "Epoch 47/50\n",
      "0s - loss: 0.0561\n",
      "Epoch 48/50\n",
      "0s - loss: 0.0592\n",
      "Epoch 49/50\n",
      "0s - loss: 0.0560\n",
      "Epoch 50/50\n",
      "0s - loss: 0.0490\n"
     ]
    },
    {
     "output_type": "execute_result",
     "data": {
      "text/plain": [
       "<keras.callbacks.History at 0x7fcea35ccf50>"
      ]
     },
     "metadata": {},
     "execution_count": 11
    }
   ],
   "metadata": {
    "scrolled": true
   }
  },
  {
   "cell_type": "code",
   "execution_count": 12,
   "source": [
    "accuracy_test = eval_model(model, data_test_vgg16, labels_test)\n",
    "print (\"Accuracy: Test: %.3f\" % (accuracy_test,) )"
   ],
   "outputs": [
    {
     "output_type": "stream",
     "name": "stdout",
     "text": [
      "Accuracy: Test: 0.772\n"
     ]
    }
   ],
   "metadata": {}
  },
  {
   "cell_type": "markdown",
   "source": [
    "# Train the model on the output of Dawid & Skene [1] and evaluate on testset\n",
    "\n",
    "[1] Dawid, A.P. and Skene, A.M., 1979. Maximum likelihood estimation of observer error-rates using the EM algorithm. Applied statistics, pp.20-28."
   ],
   "metadata": {}
  },
  {
   "cell_type": "code",
   "execution_count": 13,
   "source": [
    "model = build_base_model()\n",
    "model.fit(data_train_vgg16, labels_train_ds_bin, epochs=N_EPOCHS, shuffle=True, batch_size=BATCH_SIZE, verbose=2)"
   ],
   "outputs": [
    {
     "output_type": "stream",
     "name": "stdout",
     "text": [
      "Epoch 1/50\n",
      "0s - loss: 0.8496\n",
      "Epoch 2/50\n",
      "0s - loss: 0.4937\n",
      "Epoch 3/50\n",
      "0s - loss: 0.3571\n",
      "Epoch 4/50\n",
      "0s - loss: 0.2756\n",
      "Epoch 5/50\n",
      "0s - loss: 0.2090\n",
      "Epoch 6/50\n",
      "0s - loss: 0.1742\n",
      "Epoch 7/50\n",
      "0s - loss: 0.1423\n",
      "Epoch 8/50\n",
      "0s - loss: 0.1252\n",
      "Epoch 9/50\n",
      "0s - loss: 0.1099\n",
      "Epoch 10/50\n",
      "0s - loss: 0.0894\n",
      "Epoch 11/50\n",
      "0s - loss: 0.0818\n",
      "Epoch 12/50\n",
      "0s - loss: 0.0816\n",
      "Epoch 13/50\n",
      "0s - loss: 0.0687\n",
      "Epoch 14/50\n",
      "0s - loss: 0.0684\n",
      "Epoch 15/50\n",
      "0s - loss: 0.0655\n",
      "Epoch 16/50\n",
      "0s - loss: 0.0587\n",
      "Epoch 17/50\n",
      "0s - loss: 0.0582\n",
      "Epoch 18/50\n",
      "0s - loss: 0.0623\n",
      "Epoch 19/50\n",
      "0s - loss: 0.0729\n",
      "Epoch 20/50\n",
      "0s - loss: 0.0666\n",
      "Epoch 21/50\n",
      "0s - loss: 0.0759\n",
      "Epoch 22/50\n",
      "0s - loss: 0.0738\n",
      "Epoch 23/50\n",
      "0s - loss: 0.0549\n",
      "Epoch 24/50\n",
      "0s - loss: 0.0703\n",
      "Epoch 25/50\n",
      "0s - loss: 0.0805\n",
      "Epoch 26/50\n",
      "0s - loss: 0.0758\n",
      "Epoch 27/50\n",
      "0s - loss: 0.0706\n",
      "Epoch 28/50\n",
      "0s - loss: 0.0685\n",
      "Epoch 29/50\n",
      "0s - loss: 0.0618\n",
      "Epoch 30/50\n",
      "0s - loss: 0.0615\n",
      "Epoch 31/50\n",
      "0s - loss: 0.0519\n",
      "Epoch 32/50\n",
      "0s - loss: 0.0435\n",
      "Epoch 33/50\n",
      "0s - loss: 0.0516\n",
      "Epoch 34/50\n",
      "0s - loss: 0.0538\n",
      "Epoch 35/50\n",
      "0s - loss: 0.0516\n",
      "Epoch 36/50\n",
      "0s - loss: 0.0545\n",
      "Epoch 37/50\n",
      "0s - loss: 0.0559\n",
      "Epoch 38/50\n",
      "0s - loss: 0.0463\n",
      "Epoch 39/50\n",
      "0s - loss: 0.0473\n",
      "Epoch 40/50\n",
      "0s - loss: 0.0413\n",
      "Epoch 41/50\n",
      "0s - loss: 0.0451\n",
      "Epoch 42/50\n",
      "0s - loss: 0.0451\n",
      "Epoch 43/50\n",
      "0s - loss: 0.0516\n",
      "Epoch 44/50\n",
      "0s - loss: 0.0499\n",
      "Epoch 45/50\n",
      "0s - loss: 0.0536\n",
      "Epoch 46/50\n",
      "0s - loss: 0.0526\n",
      "Epoch 47/50\n",
      "0s - loss: 0.0453\n",
      "Epoch 48/50\n",
      "0s - loss: 0.0599\n",
      "Epoch 49/50\n",
      "0s - loss: 0.0460\n",
      "Epoch 50/50\n",
      "0s - loss: 0.0523\n"
     ]
    },
    {
     "output_type": "execute_result",
     "data": {
      "text/plain": [
       "<keras.callbacks.History at 0x7fcea02a4490>"
      ]
     },
     "metadata": {},
     "execution_count": 13
    }
   ],
   "metadata": {
    "scrolled": true
   }
  },
  {
   "cell_type": "code",
   "execution_count": 14,
   "source": [
    "accuracy_test = eval_model(model, data_test_vgg16, labels_test)\n",
    "print (\"Accuracy: Test: %.3f\" % (accuracy_test,) )"
   ],
   "outputs": [
    {
     "output_type": "stream",
     "name": "stdout",
     "text": [
      "Accuracy: Test: 0.812\n"
     ]
    }
   ],
   "metadata": {}
  },
  {
   "cell_type": "markdown",
   "source": [
    "# Train the model using EM approach and evaluate on testset\n",
    "\n",
    "The CrowdsCategoricalAggregator class acts as a wrapper for the base model that computed the EM steps."
   ],
   "metadata": {}
  },
  {
   "cell_type": "code",
   "execution_count": 15,
   "source": [
    "model = build_base_model()\n",
    "crowds_agg = CrowdsCategoricalAggregator(model, data_train_vgg16, answers, batch_size=BATCH_SIZE)\n",
    "for epoch in range(N_EPOCHS):\n",
    "    print (\"Epoch:\", epoch+1)\n",
    "    \n",
    "    # E-step\n",
    "    ground_truth_est = crowds_agg.e_step()\n",
    "    print (\"Adjusted ground truth accuracy:\", 1.0*np.sum(np.argmax(ground_truth_est, axis=1) == labels_train) / len(labels_train))\n",
    "    \n",
    "    # M-step\n",
    "    model, pi = crowds_agg.m_step()"
   ],
   "outputs": [
    {
     "output_type": "stream",
     "name": "stdout",
     "text": [
      "Epoch: 1\n",
      "E-step\n",
      "Adjusted ground truth accuracy: 0.769\n",
      "M-step\n",
      "loss: 0.879187110233\n",
      "Epoch: 2\n",
      "E-step\n",
      "Adjusted ground truth accuracy: 0.8316\n",
      "M-step\n",
      "loss: 0.0841048990607\n",
      "Epoch: 3\n",
      "E-step\n",
      "Adjusted ground truth accuracy: 0.8418\n",
      "M-step\n",
      "loss: 0.0753242268562\n",
      "Epoch: 4\n",
      "E-step\n",
      "Adjusted ground truth accuracy: 0.8499\n",
      "M-step\n",
      "loss: 0.0602781404465\n",
      "Epoch: 5\n",
      "E-step\n",
      "Adjusted ground truth accuracy: 0.8576\n",
      "M-step\n",
      "loss: 0.0534736798704\n",
      "Epoch: 6\n",
      "E-step\n",
      "Adjusted ground truth accuracy: 0.8589\n",
      "M-step\n",
      "loss: 0.0465442572176\n",
      "Epoch: 7\n",
      "E-step\n",
      "Adjusted ground truth accuracy: 0.8661\n",
      "M-step\n",
      "loss: 0.042660133481\n",
      "Epoch: 8\n",
      "E-step\n",
      "Adjusted ground truth accuracy: 0.8635\n",
      "M-step\n",
      "loss: 0.0409534886658\n",
      "Epoch: 9\n",
      "E-step\n",
      "Adjusted ground truth accuracy: 0.8614\n",
      "M-step\n",
      "loss: 0.0349683130324\n",
      "Epoch: 10\n",
      "E-step\n",
      "Adjusted ground truth accuracy: 0.8634\n",
      "M-step\n",
      "loss: 0.0358138881028\n",
      "Epoch: 11\n",
      "E-step\n",
      "Adjusted ground truth accuracy: 0.8609\n",
      "M-step\n",
      "loss: 0.034815341796\n",
      "Epoch: 12\n",
      "E-step\n",
      "Adjusted ground truth accuracy: 0.8651\n",
      "M-step\n",
      "loss: 0.0311806109056\n",
      "Epoch: 13\n",
      "E-step\n",
      "Adjusted ground truth accuracy: 0.8649\n",
      "M-step\n",
      "loss: 0.0295863393784\n",
      "Epoch: 14\n",
      "E-step\n",
      "Adjusted ground truth accuracy: 0.8626\n",
      "M-step\n",
      "loss: 0.0315630883113\n",
      "Epoch: 15\n",
      "E-step\n",
      "Adjusted ground truth accuracy: 0.8639\n",
      "M-step\n",
      "loss: 0.0309176690012\n",
      "Epoch: 16\n",
      "E-step\n",
      "Adjusted ground truth accuracy: 0.8576\n",
      "M-step\n",
      "loss: 0.0328278590798\n",
      "Epoch: 17\n",
      "E-step\n",
      "Adjusted ground truth accuracy: 0.8589\n",
      "M-step\n",
      "loss: 0.0323623064533\n",
      "Epoch: 18\n",
      "E-step\n",
      "Adjusted ground truth accuracy: 0.8634\n",
      "M-step\n",
      "loss: 0.0251674655393\n",
      "Epoch: 19\n",
      "E-step\n",
      "Adjusted ground truth accuracy: 0.8631\n",
      "M-step\n",
      "loss: 0.0357934084147\n",
      "Epoch: 20\n",
      "E-step\n",
      "Adjusted ground truth accuracy: 0.8614\n",
      "M-step\n",
      "loss: 0.0360090173423\n",
      "Epoch: 21\n",
      "E-step\n",
      "Adjusted ground truth accuracy: 0.8636\n",
      "M-step\n",
      "loss: 0.0316537196219\n",
      "Epoch: 22\n",
      "E-step\n",
      "Adjusted ground truth accuracy: 0.8634\n",
      "M-step\n",
      "loss: 0.0390978396805\n",
      "Epoch: 23\n",
      "E-step\n",
      "Adjusted ground truth accuracy: 0.8625\n",
      "M-step\n",
      "loss: 0.0231956563622\n",
      "Epoch: 24\n",
      "E-step\n",
      "Adjusted ground truth accuracy: 0.8629\n",
      "M-step\n",
      "loss: 0.0214961949036\n",
      "Epoch: 25\n",
      "E-step\n",
      "Adjusted ground truth accuracy: 0.8637\n",
      "M-step\n",
      "loss: 0.0228104360491\n",
      "Epoch: 26\n",
      "E-step\n",
      "Adjusted ground truth accuracy: 0.8656\n",
      "M-step\n",
      "loss: 0.0196616632998\n",
      "Epoch: 27\n",
      "E-step\n",
      "Adjusted ground truth accuracy: 0.8638\n",
      "M-step\n",
      "loss: 0.0230032820717\n",
      "Epoch: 28\n",
      "E-step\n",
      "Adjusted ground truth accuracy: 0.8626\n",
      "M-step\n",
      "loss: 0.0210130499601\n",
      "Epoch: 29\n",
      "E-step\n",
      "Adjusted ground truth accuracy: 0.8631\n",
      "M-step\n",
      "loss: 0.0285501958258\n",
      "Epoch: 30\n",
      "E-step\n",
      "Adjusted ground truth accuracy: 0.8601\n",
      "M-step\n",
      "loss: 0.0189336107254\n",
      "Epoch: 31\n",
      "E-step\n",
      "Adjusted ground truth accuracy: 0.864\n",
      "M-step\n",
      "loss: 0.022594151618\n",
      "Epoch: 32\n",
      "E-step\n",
      "Adjusted ground truth accuracy: 0.8665\n",
      "M-step\n",
      "loss: 0.0226690197498\n",
      "Epoch: 33\n",
      "E-step\n",
      "Adjusted ground truth accuracy: 0.8655\n",
      "M-step\n",
      "loss: 0.0209381479163\n",
      "Epoch: 34\n",
      "E-step\n",
      "Adjusted ground truth accuracy: 0.8631\n",
      "M-step\n",
      "loss: 0.0211516921612\n",
      "Epoch: 35\n",
      "E-step\n",
      "Adjusted ground truth accuracy: 0.8654\n",
      "M-step\n",
      "loss: 0.0276213314265\n",
      "Epoch: 36\n",
      "E-step\n",
      "Adjusted ground truth accuracy: 0.865\n",
      "M-step\n",
      "loss: 0.0311879781254\n",
      "Epoch: 37\n",
      "E-step\n",
      "Adjusted ground truth accuracy: 0.866\n",
      "M-step\n",
      "loss: 0.0296485511087\n",
      "Epoch: 38\n",
      "E-step\n",
      "Adjusted ground truth accuracy: 0.8653\n",
      "M-step\n",
      "loss: 0.021428180496\n",
      "Epoch: 39\n",
      "E-step\n",
      "Adjusted ground truth accuracy: 0.8634\n",
      "M-step\n",
      "loss: 0.0192483563196\n",
      "Epoch: 40\n",
      "E-step\n",
      "Adjusted ground truth accuracy: 0.8635\n",
      "M-step\n",
      "loss: 0.0224924945705\n",
      "Epoch: 41\n",
      "E-step\n",
      "Adjusted ground truth accuracy: 0.8621\n",
      "M-step\n",
      "loss: 0.0262361513401\n",
      "Epoch: 42\n",
      "E-step\n",
      "Adjusted ground truth accuracy: 0.8658\n",
      "M-step\n",
      "loss: 0.0206368748181\n",
      "Epoch: 43\n",
      "E-step\n",
      "Adjusted ground truth accuracy: 0.865\n",
      "M-step\n",
      "loss: 0.0157804278841\n",
      "Epoch: 44\n",
      "E-step\n",
      "Adjusted ground truth accuracy: 0.8664\n",
      "M-step\n",
      "loss: 0.0140626557834\n",
      "Epoch: 45\n",
      "E-step\n",
      "Adjusted ground truth accuracy: 0.8633\n",
      "M-step\n",
      "loss: 0.0226320507366\n",
      "Epoch: 46\n",
      "E-step\n",
      "Adjusted ground truth accuracy: 0.8637\n",
      "M-step\n",
      "loss: 0.0164031655508\n",
      "Epoch: 47\n",
      "E-step\n",
      "Adjusted ground truth accuracy: 0.8667\n",
      "M-step\n",
      "loss: 0.0214665938367\n",
      "Epoch: 48\n",
      "E-step\n",
      "Adjusted ground truth accuracy: 0.8656\n",
      "M-step\n",
      "loss: 0.0219805043466\n",
      "Epoch: 49\n",
      "E-step\n",
      "Adjusted ground truth accuracy: 0.8663\n",
      "M-step\n",
      "loss: 0.0194299996078\n",
      "Epoch: 50\n",
      "E-step\n",
      "Adjusted ground truth accuracy: 0.8663\n",
      "M-step\n",
      "loss: 0.0127457070066\n"
     ]
    }
   ],
   "metadata": {
    "scrolled": true
   }
  },
  {
   "cell_type": "code",
   "execution_count": 16,
   "source": [
    "accuracy_test = eval_model(model, data_test_vgg16, labels_test)\n",
    "print (\"Accuracy: Test: %.3f\" % (accuracy_test,) )"
   ],
   "outputs": [
    {
     "output_type": "stream",
     "name": "stdout",
     "text": [
      "Accuracy: Test: 0.828\n"
     ]
    }
   ],
   "metadata": {}
  },
  {
   "cell_type": "markdown",
   "source": [
    "# Train the model using proposed DL-MW approach and evaluate on testset\n",
    "\n",
    "We start by adding a new layer (CrowdsClassification) on top of our neural network. We then require a special loss (MaskedMultiCrossEntropy) to handle the missing labels from some of the annotators (encoded as \"-1\").\n",
    "\n",
    "Notice how the training is faster then the EM approach."
   ],
   "metadata": {}
  },
  {
   "cell_type": "code",
   "execution_count": 17,
   "source": [
    "model = build_base_model()\n",
    "\n",
    "# add crowds layer on top of the base model\n",
    "model.add(CrowdsClassification(N_CLASSES, N_ANNOT, conn_type=\"MW\"))\n",
    "\n",
    "# instantiate specialized masked loss to handle missing answers\n",
    "loss = MaskedMultiCrossEntropy().loss\n",
    "\n",
    "# compile model with masked loss and train\n",
    "model.compile(optimizer='adam', loss=loss)\n",
    "model.fit(data_train_vgg16, answers_bin_missings, epochs=N_EPOCHS, shuffle=True, batch_size=BATCH_SIZE, verbose=2)"
   ],
   "outputs": [
    {
     "output_type": "stream",
     "name": "stdout",
     "text": [
      "Epoch 1/50\n",
      "0s - loss: 0.0699\n",
      "Epoch 2/50\n",
      "0s - loss: 0.0617\n",
      "Epoch 3/50\n",
      "0s - loss: 0.0565\n",
      "Epoch 4/50\n",
      "0s - loss: 0.0523\n",
      "Epoch 5/50\n",
      "0s - loss: 0.0489\n",
      "Epoch 6/50\n",
      "0s - loss: 0.0457\n",
      "Epoch 7/50\n",
      "0s - loss: 0.0425\n",
      "Epoch 8/50\n",
      "0s - loss: 0.0400\n",
      "Epoch 9/50\n",
      "0s - loss: 0.0381\n",
      "Epoch 10/50\n",
      "0s - loss: 0.0358\n",
      "Epoch 11/50\n",
      "0s - loss: 0.0345\n",
      "Epoch 12/50\n",
      "0s - loss: 0.0327\n",
      "Epoch 13/50\n",
      "0s - loss: 0.0317\n",
      "Epoch 14/50\n",
      "0s - loss: 0.0300\n",
      "Epoch 15/50\n",
      "0s - loss: 0.0285\n",
      "Epoch 16/50\n",
      "0s - loss: 0.0279\n",
      "Epoch 17/50\n",
      "0s - loss: 0.0269\n",
      "Epoch 18/50\n",
      "0s - loss: 0.0260\n",
      "Epoch 19/50\n",
      "0s - loss: 0.0250\n",
      "Epoch 20/50\n",
      "0s - loss: 0.0243\n",
      "Epoch 21/50\n",
      "0s - loss: 0.0235\n",
      "Epoch 22/50\n",
      "0s - loss: 0.0227\n",
      "Epoch 23/50\n",
      "0s - loss: 0.0223\n",
      "Epoch 24/50\n",
      "0s - loss: 0.0217\n",
      "Epoch 25/50\n",
      "0s - loss: 0.0214\n",
      "Epoch 26/50\n",
      "0s - loss: 0.0212\n",
      "Epoch 27/50\n",
      "0s - loss: 0.0206\n",
      "Epoch 28/50\n",
      "0s - loss: 0.0203\n",
      "Epoch 29/50\n",
      "0s - loss: 0.0197\n",
      "Epoch 30/50\n",
      "0s - loss: 0.0189\n",
      "Epoch 31/50\n",
      "0s - loss: 0.0187\n",
      "Epoch 32/50\n",
      "0s - loss: 0.0183\n",
      "Epoch 33/50\n",
      "0s - loss: 0.0184\n",
      "Epoch 34/50\n",
      "0s - loss: 0.0181\n",
      "Epoch 35/50\n",
      "0s - loss: 0.0175\n",
      "Epoch 36/50\n",
      "0s - loss: 0.0174\n",
      "Epoch 37/50\n",
      "0s - loss: 0.0174\n",
      "Epoch 38/50\n",
      "0s - loss: 0.0172\n",
      "Epoch 39/50\n",
      "0s - loss: 0.0170\n",
      "Epoch 40/50\n",
      "0s - loss: 0.0165\n",
      "Epoch 41/50\n",
      "0s - loss: 0.0164\n",
      "Epoch 42/50\n",
      "0s - loss: 0.0162\n",
      "Epoch 43/50\n",
      "0s - loss: 0.0162\n",
      "Epoch 44/50\n",
      "0s - loss: 0.0159\n",
      "Epoch 45/50\n",
      "0s - loss: 0.0157\n",
      "Epoch 46/50\n",
      "0s - loss: 0.0155\n",
      "Epoch 47/50\n",
      "0s - loss: 0.0152\n",
      "Epoch 48/50\n",
      "0s - loss: 0.0151\n",
      "Epoch 49/50\n",
      "0s - loss: 0.0151\n",
      "Epoch 50/50\n",
      "0s - loss: 0.0148\n"
     ]
    },
    {
     "output_type": "execute_result",
     "data": {
      "text/plain": [
       "<keras.callbacks.History at 0x7fce8c126850>"
      ]
     },
     "metadata": {},
     "execution_count": 17
    }
   ],
   "metadata": {
    "scrolled": true
   }
  },
  {
   "cell_type": "markdown",
   "source": [
    "Before evaluating our model, we need to remove the crowds layer used during training in order to expose the aggregation (bottleneck) layer"
   ],
   "metadata": {}
  },
  {
   "cell_type": "code",
   "execution_count": 18,
   "source": [
    "# save weights from crowds layer for later\n",
    "weights = model.layers[5].get_weights()\n",
    "\n",
    "# remove crowds layer before making predictions\n",
    "model.pop() \n",
    "model.compile(optimizer='adam', loss='categorical_crossentropy', metrics=['accuracy'])\n",
    "\n",
    "accuracy_test = eval_model(model, data_test_vgg16, labels_test)\n",
    "print (\"Accuracy: Test: %.3f\" % (accuracy_test,) )"
   ],
   "outputs": [
    {
     "output_type": "stream",
     "name": "stdout",
     "text": [
      "Accuracy: Test: 0.839\n"
     ]
    }
   ],
   "metadata": {}
  },
  {
   "cell_type": "markdown",
   "source": [
    "# Compare the weights learned by the crowds layer for each annotator with their true confution matrices\n",
    "\n",
    "First, compute true confusion matrices:"
   ],
   "metadata": {}
  },
  {
   "cell_type": "code",
   "execution_count": 19,
   "source": [
    "conf_mats = np.zeros((N_CLASSES,N_CLASSES,N_ANNOT)) + 0.00000001\n",
    "num_answers = np.zeros((N_CLASSES,N_ANNOT)) + (0.00000001 * N_CLASSES)\n",
    "for i in range(len(answers)):\n",
    "    for r in range(N_ANNOT):\n",
    "        if answers[i][r] != -1:\n",
    "            num_answers[labels_train[i],r] += 1\n",
    "            conf_mats[labels_train[i],answers[i][r],r] += 1\n",
    "for r in range(N_ANNOT):\n",
    "    for c in range(N_CLASSES):\n",
    "        for c2 in range(N_CLASSES):\n",
    "            conf_mats[c,c2,r] = conf_mats[c,c2,r] / num_answers[c,r]"
   ],
   "outputs": [],
   "metadata": {
    "collapsed": true
   }
  },
  {
   "cell_type": "markdown",
   "source": [
    "Auxiliary function that make a visual comparison:"
   ],
   "metadata": {}
  },
  {
   "cell_type": "code",
   "execution_count": 20,
   "source": [
    "def compare_conf_mats(true_conf_mat, weights):\n",
    "    # normalize weights matrix between 0 and 1\n",
    "    w_mat = (np.transpose(weights) + np.abs(weights.min()))\n",
    "    w_mat = w_mat / w_mat.max()\n",
    "    \n",
    "    sp1 = plt.subplot(1,2,1)\n",
    "    plt.imshow(true_conf_mat, interpolation='nearest', cmap=cm.YlOrRd)\n",
    "    plt.title(\"True\")\n",
    "\n",
    "    sp = plt.subplot(1,2,2)\n",
    "    plt.imshow(w_mat, interpolation='nearest', cmap=cm.YlOrRd)\n",
    "    plt.title(\"Estimated\")\n",
    "\n",
    "    plt.show()"
   ],
   "outputs": [],
   "metadata": {
    "collapsed": true
   }
  },
  {
   "cell_type": "markdown",
   "source": [
    "Make comparison for various annotators:"
   ],
   "metadata": {}
  },
  {
   "cell_type": "code",
   "execution_count": 21,
   "source": [
    "compare_conf_mats(conf_mats[:,:,1], weights[0][:,:,1])"
   ],
   "outputs": [
    {
     "output_type": "display_data",
     "data": {
      "text/plain": [
       "<matplotlib.figure.Figure at 0x7fce507c9650>"
      ],
      "image/png": "[encoded data removed]"
     },
     "metadata": {}
    }
   ],
   "metadata": {}
  },
  {
   "cell_type": "code",
   "execution_count": 22,
   "source": [
    "compare_conf_mats(conf_mats[:,:,2], weights[0][:,:,2])"
   ],
   "outputs": [
    {
     "output_type": "display_data",
     "data": {
      "text/plain": [
       "<matplotlib.figure.Figure at 0x7fce501c5ad0>"
      ],
      "image/png": "[encoded data removed]"
     },
     "metadata": {}
    }
   ],
   "metadata": {}
  },
  {
   "cell_type": "code",
   "execution_count": 23,
   "source": [
    "compare_conf_mats(conf_mats[:,:,9], weights[0][:,:,9])"
   ],
   "outputs": [
    {
     "output_type": "display_data",
     "data": {
      "text/plain": [
       "<matplotlib.figure.Figure at 0x7fce5004add0>"
      ],
      "image/png": "[encoded data removed]"
     },
     "metadata": {}
    }
   ],
   "metadata": {}
  },
  {
   "cell_type": "code",
   "execution_count": 24,
   "source": [
    "compare_conf_mats(conf_mats[:,:,20], weights[0][:,:,20])"
   ],
   "outputs": [
    {
     "output_type": "display_data",
     "data": {
      "text/plain": [
       "<matplotlib.figure.Figure at 0x7fce1c6815d0>"
      ],
      "image/png": "[encoded data removed]"
     },
     "metadata": {}
    }
   ],
   "metadata": {}
  },
  {
   "cell_type": "code",
   "execution_count": 25,
   "source": [
    "compare_conf_mats(conf_mats[:,:,23], weights[0][:,:,23])"
   ],
   "outputs": [
    {
     "output_type": "display_data",
     "data": {
      "text/plain": [
       "<matplotlib.figure.Figure at 0x7fcd2f553bd0>"
      ],
      "image/png": "[encoded data removed]"
     },
     "metadata": {}
    }
   ],
   "metadata": {}
  },
  {
   "cell_type": "code",
   "execution_count": 26,
   "source": [
    "compare_conf_mats(conf_mats[:,:,30], weights[0][:,:,30])"
   ],
   "outputs": [
    {
     "output_type": "display_data",
     "data": {
      "text/plain": [
       "<matplotlib.figure.Figure at 0x7fcd2e3e8fd0>"
      ],
      "image/png": "[encoded data removed]"
     },
     "metadata": {}
    }
   ],
   "metadata": {}
  },
  {
   "cell_type": "code",
   "execution_count": 27,
   "source": [
    "compare_conf_mats(conf_mats[:,:,36], weights[0][:,:,36])"
   ],
   "outputs": [
    {
     "output_type": "display_data",
     "data": {
      "text/plain": [
       "<matplotlib.figure.Figure at 0x7fcd2c5c4590>"
      ],
      "image/png": "[encoded data removed]"
     },
     "metadata": {}
    }
   ],
   "metadata": {}
  },
  {
   "cell_type": "code",
   "execution_count": 28,
   "source": [
    "compare_conf_mats(conf_mats[:,:,39], weights[0][:,:,39])"
   ],
   "outputs": [
    {
     "output_type": "display_data",
     "data": {
      "text/plain": [
       "<matplotlib.figure.Figure at 0x7fcd2c45d050>"
      ],
      "image/png": "[encoded data removed]"
     },
     "metadata": {}
    }
   ],
   "metadata": {}
  },
  {
   "cell_type": "code",
   "execution_count": 29,
   "source": [
    "compare_conf_mats(conf_mats[:,:,45], weights[0][:,:,45])"
   ],
   "outputs": [
    {
     "output_type": "display_data",
     "data": {
      "text/plain": [
       "<matplotlib.figure.Figure at 0x7fcd2e26a0d0>"
      ],
      "image/png": "[encoded data removed]"
     },
     "metadata": {}
    }
   ],
   "metadata": {}
  },
  {
   "cell_type": "code",
   "execution_count": 30,
   "source": [
    "compare_conf_mats(conf_mats[:,:,56], weights[0][:,:,56])"
   ],
   "outputs": [
    {
     "output_type": "display_data",
     "data": {
      "text/plain": [
       "<matplotlib.figure.Figure at 0x7fce1c718ad0>"
      ],
      "image/png": "[encoded data removed]"
     },
     "metadata": {}
    }
   ],
   "metadata": {}
  },
  {
   "cell_type": "code",
   "execution_count": 31,
   "source": [
    "compare_conf_mats(conf_mats[:,:,58], weights[0][:,:,58])"
   ],
   "outputs": [
    {
     "output_type": "display_data",
     "data": {
      "text/plain": [
       "<matplotlib.figure.Figure at 0x7fce1c6a19d0>"
      ],
      "image/png": "[encoded data removed]"
     },
     "metadata": {}
    }
   ],
   "metadata": {}
  },
  {
   "cell_type": "code",
   "execution_count": null,
   "source": [],
   "outputs": [],
   "metadata": {
    "collapsed": true
   }
  }
 ],
 "metadata": {
  "kernelspec": {
   "display_name": "Python 2",
   "language": "python",
   "name": "python2"
  },
  "language_info": {
   "codemirror_mode": {
    "name": "ipython",
    "version": 2
   },
   "file_extension": ".py",
   "mimetype": "text/x-python",
   "name": "python",
   "nbconvert_exporter": "python",
   "pygments_lexer": "ipython2",
   "version": "2.7.13"
  }
 },
 "nbformat": 4,
 "nbformat_minor": 2
}